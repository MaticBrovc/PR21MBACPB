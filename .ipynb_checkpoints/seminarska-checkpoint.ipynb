{
 "cells": [
  {
   "cell_type": "markdown",
   "id": "monetary-flight",
   "metadata": {},
   "source": [
    "# Seminarska naloga iz Podatkovnega Rudarjenja 2020/2021"
   ]
  },
  {
   "cell_type": "markdown",
   "id": "foreign-composite",
   "metadata": {},
   "source": [
    "### Odločili smo se za nalogo: ukradena vozila."
   ]
  },
  {
   "cell_type": "markdown",
   "id": "obvious-restriction",
   "metadata": {},
   "source": [
    "### <font color='orange'>In progress [ &#9874; ] </font>&nbsp; <font color='red'>Declined [ ✗ ]</font> &nbsp;<font color='green'>Finished [ ✓ ]</font>\n",
    "\n",
    "* <font color='green'>Priprava osnovnega parserja [ ✓ ]</font>   <br/>\n",
    "* <font color='green'>Priprava tabele z kraticami in mesti registracijskih [ ✓ ]</font>   <br/>\n",
    "* <font color='green'>Pridobi možne podatke s spletne strani avtolog.si [ ✓ ]</font>   <br/>\n",
    "* <font color='orange'>v katerem mestu je največ kraj( glede na tablico MB,LJ,..) [ &#9874; ]</font>  <br/>\n",
    "* <font color='orange'>katera znamka je najbloj kradena (lahko tudi glede na mesto) [ &#9874; ]</font>  <br/>\n",
    "* <font color='orange'>kateri model je najbolj kraden (-||-) [ &#9874; ]</font>  <br/>\n",
    "* <font color='orange'>ali je večina ukradenih starejših/novejših od X leta [ &#9874; ]</font>  <br/>\n",
    "* <font color='orange'>ali so ukredena vozila dražja/cenejša od X vrednosti [ &#9874; ]</font>  <br/>\n",
    "* <font color='orange'>koliko vozil je bilo ukradenih za vsako leto [ &#9874; ]</font>  <br/>\n",
    "* <font color='orange'>katera barva je najbolj kradena [ &#9874; ]</font>  <br/>\n",
    "* <font color='orange'>Ali so cena avtomobila in kraja avtomobila povezana [ &#9874; ]</font>  <br/>\n",
    "* <font color='orange'>Verjetnost, da ti ukradejo avto če si iz mesta X (st_Ukradenih_avtov_mesto / prebivalstvo_mesto) [ &#9874; ]</font>  <br/>\n",
    "* <font color='orange'>Kraja po starosti vozila [ &#9874; ]</font>  <br/>\n",
    "\n"
   ]
  },
  {
   "cell_type": "code",
   "execution_count": 4,
   "id": "above-apparel",
   "metadata": {},
   "outputs": [],
   "source": [
    "import pandas as pd\n",
    "import requests\n",
    "from bs4 import BeautifulSoup\n",
    "import re\n",
    "import csv\n",
    "from collections import defaultdict\n",
    "import matplotlib.pyplot as plt"
   ]
  },
  {
   "cell_type": "code",
   "execution_count": 2,
   "id": "manufactured-cameroon",
   "metadata": {},
   "outputs": [],
   "source": [
    "#import sys\n",
    "#!{sys.executable} -m pip install beautifulsoup4"
   ]
  },
  {
   "cell_type": "code",
   "execution_count": 68,
   "id": "touched-canon",
   "metadata": {},
   "outputs": [],
   "source": [
    "vozila = pd.read_csv(\"ukrvozila.csv\", sep=\";\")\n",
    "kMesta = pd.read_csv(\"kraticeMesta.txt\", sep=\";\")"
   ]
  },
  {
   "cell_type": "code",
   "execution_count": 6,
   "id": "indirect-tennis",
   "metadata": {},
   "outputs": [
    {
     "data": {
      "text/plain": [
       "False"
      ]
     },
     "execution_count": 6,
     "metadata": {},
     "output_type": "execute_result"
    }
   ],
   "source": [
    "vozila['znamka'].isnull().values.any() #true\n",
    "vozila['tip'].isnull().values.any() #true\n",
    "vozila['registrska'].isnull().values.any() #true\n",
    "vozila['sasija'].isnull().values.any() #false\n",
    "vozila['barva'].isnull().values.any() #true\n",
    "vozila['datumodvzema'].isnull().values.any() #false"
   ]
  },
  {
   "cell_type": "code",
   "execution_count": 7,
   "id": "monetary-doctor",
   "metadata": {},
   "outputs": [],
   "source": [
    "vozila['znamka'] = vozila['znamka'].fillna(\"BREZ\")\n",
    "vozila['tip'] = vozila['tip'].fillna(\"BREZ\")\n",
    "vozila['registrska'] = vozila['registrska'].fillna(\"BREZ\")\n",
    "vozila['barva'] = vozila['barva'].fillna(\"BREZ\")"
   ]
  },
  {
   "cell_type": "code",
   "execution_count": 85,
   "id": "established-franklin",
   "metadata": {},
   "outputs": [],
   "source": [
    "#Znebimo se vseh nepopolnih registerskih za lažjo predstavitev podatkov.\n",
    "vozila.loc[(vozila[\"registrska\"] == ''), 'registrska'] = \"BREZ\"\n",
    "vozila.loc[(vozila[\"registrska\"] == 'N'), 'registrska'] = \"BREZ\"\n",
    "vozila.loc[(vozila[\"registrska\"] == '0'), 'registrska'] = \"BREZ\"\n",
    "vozila.loc[(vozila[\"registrska\"] == 'X'), 'registrska'] = \"BREZ\""
   ]
  },
  {
   "cell_type": "markdown",
   "id": "terminal-donor",
   "metadata": {},
   "source": [
    "## Parser"
   ]
  },
  {
   "cell_type": "code",
   "execution_count": 8,
   "id": "bridal-coordination",
   "metadata": {},
   "outputs": [],
   "source": [
    "def getWebsiteData(sasija):\n",
    "    \n",
    "    url=\"http://avtolog.si/search/\"+sasija+\"/\"\n",
    "    html_content = requests.get(url).text\n",
    "    parsed_html = BeautifulSoup(html_content,'html.parser')\n",
    "    \n",
    "    ## Get table data\n",
    "    allTables = parsed_html.find_all(\"div\", attrs={\"class\": \"pane\"})\n",
    "    \n",
    "    #Take the usefull data: Podatki o vozilu; Podatki o lastniku.\n",
    "    d1 = allTables[0]\n",
    "    d3 = allTables[2]\n",
    "\n",
    "    t1 = d1.findAll(\"table\")[0]\n",
    "    t_headers = []\n",
    "    for th in t1.find_all(\"th\"):\n",
    "        # remove any newlines and extra spaces from left and right\n",
    "        t_headers.append(th.text.replace('\\n', ' ').strip())\n",
    "    #print(t_headers)\n",
    "    table_data = []\n",
    "    for td in t1.find_all(\"td\"):\n",
    "        a = re.sub(\"\\n +\",\" \", td.text.strip())\n",
    "        tdt = re.sub(\" +\",\" \", a)\n",
    "        table_data.append(tdt)\n",
    "    sz = [x for x in zip(t_headers, table_data)]    \n",
    "    if(d3.findAll(\"table\") != []):\n",
    "        t3 = d3.findAll(\"table\")[0]\n",
    "        tds = t3.find_all(\"td\")[-3]\n",
    "        a = re.sub(\"\\n +\",\" \", tds.text.strip())\n",
    "        sz.append(('Status/starost',re.sub(\" +\",\" \", a)))\n",
    "    s = (\"sasija\", sasija)\n",
    "    sz.insert(0,s)\n",
    "    return sz\n"
   ]
  },
  {
   "cell_type": "code",
   "execution_count": 8,
   "id": "small-diagram",
   "metadata": {},
   "outputs": [],
   "source": [
    "#getWebsiteData(\"SWNH30000A0002248\")"
   ]
  },
  {
   "cell_type": "code",
   "execution_count": 9,
   "id": "sustainable-power",
   "metadata": {},
   "outputs": [],
   "source": [
    "#V0_2000 = vozila[\"sasija\"][0:2000] #done\n",
    "#V2000_4000 = vozila[\"sasija\"][2000:4000] #done\n",
    "#V4000_6000 = vozila[\"sasija\"][4000:6000] #done\n",
    "#V6000_8000 = vozila[\"sasija\"][6000:8000] #done\n",
    "#V8000_10000 = vozila[\"sasija\"][8000:10000] #done\n",
    "#V10000_12000 = vozila[\"sasija\"][10000:12000] #done\n",
    "#V12000_14000 = vozila[\"sasija\"][12000:14000] #done\n",
    "#V14000_16000 = vozila[\"sasija\"][14000:16000] #done\n",
    "#V16000_konc = vozila[\"sasija\"][16000:] #done"
   ]
  },
  {
   "cell_type": "code",
   "execution_count": 10,
   "id": "regulation-musician",
   "metadata": {},
   "outputs": [],
   "source": [
    "#print(len(V0_2000) + len(V2000_4000) + len(V4000_6000) + len(V6000_8000) + len(V8000_10000) + len(V10000_12000) + len(V12000_14000) + len(V14000_16000) + len(V16000_konc))"
   ]
  },
  {
   "cell_type": "code",
   "execution_count": 9,
   "id": "official-connectivity",
   "metadata": {},
   "outputs": [],
   "source": [
    "#Done: 6000 - errors\n",
    "#V0_2000, 2000-4000, 4000-6000, 6000-8000, 8000-10000, 10000-12000\n",
    "def getDataFromRange(array):\n",
    "    c = 0;\n",
    "    dataArray = []\n",
    "    errorArray = []\n",
    "    for x in array:\n",
    "        try:\n",
    "            podatki = getWebsiteData(x)\n",
    "            dataArray.append(podatki)\n",
    "        except:\n",
    "            errorArray.append(c)\n",
    "        c+=1\n",
    "    return (dataArray, errorArray)\n"
   ]
  },
  {
   "cell_type": "code",
   "execution_count": 12,
   "id": "proof-legislation",
   "metadata": {},
   "outputs": [],
   "source": [
    "#Zaženi na vsake nekaj časa, da ne preobremenimo strežnika.\n",
    "#dataArray, errorArray = getDataFromRange(V16000_konc)\n"
   ]
  },
  {
   "cell_type": "code",
   "execution_count": 13,
   "id": "amber-rover",
   "metadata": {},
   "outputs": [],
   "source": [
    "#Preveri ali so podakti pravilno zapisani\n",
    "#dataArray"
   ]
  },
  {
   "cell_type": "code",
   "execution_count": 14,
   "id": "incoming-spray",
   "metadata": {},
   "outputs": [],
   "source": [
    "#counter = []\n",
    "#for x in dataArray:\n",
    "#    counter.append(len(x))"
   ]
  },
  {
   "cell_type": "code",
   "execution_count": 15,
   "id": "precise-sleeping",
   "metadata": {},
   "outputs": [],
   "source": [
    "#Preveri ali imajo vsi najmanj 12 in največ 13 vnosov.\n",
    "#set(counter)"
   ]
  },
  {
   "cell_type": "code",
   "execution_count": 16,
   "id": "naval-southwest",
   "metadata": {},
   "outputs": [],
   "source": [
    "#errorArray"
   ]
  },
  {
   "cell_type": "code",
   "execution_count": 17,
   "id": "general-principal",
   "metadata": {},
   "outputs": [],
   "source": [
    "#vozila.iloc[16000+18]"
   ]
  },
  {
   "cell_type": "code",
   "execution_count": 10,
   "id": "ongoing-suspension",
   "metadata": {},
   "outputs": [],
   "source": [
    "def addTotxtError(array, zacetna):\n",
    "    file = open('napake.txt', 'a')\n",
    "    for x in array:\n",
    "        er = vozila[\"sasija\"].iloc[x+zacetna]\n",
    "        file.write(er + \"\\n\")\n",
    "    file.close()\n"
   ]
  },
  {
   "cell_type": "code",
   "execution_count": 11,
   "id": "unauthorized-fortune",
   "metadata": {},
   "outputs": [],
   "source": [
    "def firstCsv():\n",
    "    with open('normal.csv', mode='a', newline='') as voz_file:\n",
    "        voz_writer = csv.writer(voz_file, delimiter=';', quotechar='\"', quoting=csv.QUOTE_MINIMAL)\n",
    "        headers = []\n",
    "        for x in dataArray[0]:\n",
    "            headers.append(x[0])\n",
    "        voz_writer.writerow(headers)\n",
    "        voz_file.close()\n",
    "\n",
    "def addTocsvNormal(array):\n",
    "     with open('normal.csv', mode='a', newline='') as voz_file:\n",
    "        voz_writer = csv.writer(voz_file, delimiter=';', quotechar='\"', quoting=csv.QUOTE_MINIMAL)\n",
    "        for x in array:\n",
    "            podatki = [y[1] for y in x]\n",
    "            if len(podatki) == 12:\n",
    "                podatki.append(\"BREZ\")\n",
    "            voz_writer.writerow(podatki)    \n",
    "        voz_file.close()"
   ]
  },
  {
   "cell_type": "code",
   "execution_count": 20,
   "id": "solved-press",
   "metadata": {},
   "outputs": [],
   "source": [
    "#Ko dobiš nove podatke zapiši vse errorje v datoteko.\n",
    "#addTotxtError(errorArray, 16000)"
   ]
  },
  {
   "cell_type": "code",
   "execution_count": 21,
   "id": "determined-dutch",
   "metadata": {},
   "outputs": [],
   "source": [
    "#Zaženi samo prvič, da se ustvarijo headerji\n",
    "#firstCsv()"
   ]
  },
  {
   "cell_type": "code",
   "execution_count": 22,
   "id": "missing-iceland",
   "metadata": {},
   "outputs": [],
   "source": [
    "#Vsakič ko dobiš nove podatke, zaženi.\n",
    "#addTocsvNormal(dataArray)"
   ]
  },
  {
   "cell_type": "markdown",
   "id": "virtual-sheriff",
   "metadata": {},
   "source": [
    "# Obdelava podatkov | statistika podatkov"
   ]
  },
  {
   "cell_type": "code",
   "execution_count": 12,
   "id": "informal-sally",
   "metadata": {},
   "outputs": [],
   "source": [
    "##Pridobi združeno tabelo po šasiji\n",
    "vozilaAL = pd.read_csv(\"normal.csv\", sep=\";\")\n",
    "#merge = vozila.merge(avtolog)"
   ]
  },
  {
   "cell_type": "code",
   "execution_count": 20,
   "id": "dressed-waters",
   "metadata": {},
   "outputs": [],
   "source": [
    "#vozilaAL"
   ]
  },
  {
   "cell_type": "code",
   "execution_count": 89,
   "id": "mental-manor",
   "metadata": {},
   "outputs": [],
   "source": [
    "#Za boljše podatke smo odstranili vse tiste podatke, ki so bili pomanjklivi(Niso imeli šasije ali pa je bila napačna)\n",
    "#Napake so napisane v napake.txt, zato jih je potrebno odstraniti. To pa zato, da bodo vse šasije unikatne.\n",
    "f = open(\"napake.txt\", \"r\")\n",
    "a = set()\n",
    "\n",
    "for x in f: \n",
    "  a.add(x.strip())"
   ]
  },
  {
   "cell_type": "code",
   "execution_count": 90,
   "id": "suited-institute",
   "metadata": {},
   "outputs": [],
   "source": [
    "vozila = vozila[~vozila['sasija'].isin(a)]\n",
    "#Obe tabeli imata sedaj 16786 zapisov. Kar pa bo zelo uporabno pri zruževanju podatkov."
   ]
  },
  {
   "cell_type": "code",
   "execution_count": 91,
   "id": "pacific-faith",
   "metadata": {},
   "outputs": [
    {
     "data": {
      "text/plain": [
       "16657"
      ]
     },
     "execution_count": 91,
     "metadata": {},
     "output_type": "execute_result"
    }
   ],
   "source": [
    "vozila[\"sasija\"].nunique()"
   ]
  },
  {
   "cell_type": "code",
   "execution_count": 92,
   "id": "baking-douglas",
   "metadata": {},
   "outputs": [
    {
     "data": {
      "text/plain": [
       "16657"
      ]
     },
     "execution_count": 92,
     "metadata": {},
     "output_type": "execute_result"
    }
   ],
   "source": [
    "vozilaAL[\"sasija\"].nunique()"
   ]
  },
  {
   "cell_type": "code",
   "execution_count": 41,
   "id": "southeast-spokesman",
   "metadata": {},
   "outputs": [],
   "source": [
    "#Združeno skupaj in preverjeno, da se vsi zapisi ujemajo\n",
    "merged = pd.concat([vozila.reset_index(drop=True),vozilaAL.reset_index(drop=True)], axis=1)"
   ]
  },
  {
   "cell_type": "code",
   "execution_count": 93,
   "id": "pediatric-genealogy",
   "metadata": {},
   "outputs": [],
   "source": [
    "#Izbrisan podvojen podatek šasije\n",
    "merged = merged.iloc[:, [j for j, c in enumerate(merged.columns) if j != 6]]"
   ]
  },
  {
   "cell_type": "code",
   "execution_count": 94,
   "id": "quarterly-expansion",
   "metadata": {},
   "outputs": [],
   "source": [
    "#Znebimo se vseh praznih vrednosti\n",
    "merged = merged.fillna(\"BREZ\")"
   ]
  },
  {
   "cell_type": "code",
   "execution_count": 84,
   "id": "inside-citation",
   "metadata": {},
   "outputs": [
    {
     "data": {
      "text/html": [
       "<div>\n",
       "<style scoped>\n",
       "    .dataframe tbody tr th:only-of-type {\n",
       "        vertical-align: middle;\n",
       "    }\n",
       "\n",
       "    .dataframe tbody tr th {\n",
       "        vertical-align: top;\n",
       "    }\n",
       "\n",
       "    .dataframe thead th {\n",
       "        text-align: right;\n",
       "    }\n",
       "</style>\n",
       "<table border=\"1\" class=\"dataframe\">\n",
       "  <thead>\n",
       "    <tr style=\"text-align: right;\">\n",
       "      <th></th>\n",
       "      <th>znamka</th>\n",
       "      <th>tip</th>\n",
       "      <th>registrska</th>\n",
       "      <th>sasija</th>\n",
       "      <th>barva</th>\n",
       "      <th>datumodvzema</th>\n",
       "      <th>Znamka vozila</th>\n",
       "      <th>Leto izdelave</th>\n",
       "      <th>Število lastnikov</th>\n",
       "      <th>Barva</th>\n",
       "      <th>Vrsta goriva</th>\n",
       "      <th>Oznaka motorja</th>\n",
       "      <th>Moč</th>\n",
       "      <th>Prostornina</th>\n",
       "      <th>EURO oznaka</th>\n",
       "      <th>Prva registracija</th>\n",
       "      <th>Prve registracija (SI)</th>\n",
       "      <th>Status/starost</th>\n",
       "    </tr>\n",
       "  </thead>\n",
       "  <tbody>\n",
       "    <tr>\n",
       "      <th>78</th>\n",
       "      <td>AUDI</td>\n",
       "      <td>Q7</td>\n",
       "      <td>LJ13GVM</td>\n",
       "      <td>WAUZZZ4L67D055025</td>\n",
       "      <td>KOVINSKI - SIVA</td>\n",
       "      <td>13.01.2021</td>\n",
       "      <td>AUDI Q7 / 3.0 / TDI Q AUT.</td>\n",
       "      <td>2006</td>\n",
       "      <td>2</td>\n",
       "      <td>kovinski - SIVA - SVETLA</td>\n",
       "      <td>Dizel</td>\n",
       "      <td>BUG</td>\n",
       "      <td>171 kW</td>\n",
       "      <td>2967 ccm</td>\n",
       "      <td>EURO 4</td>\n",
       "      <td>2006-11-02</td>\n",
       "      <td>2006-11-02</td>\n",
       "      <td>Pravna oseba</td>\n",
       "    </tr>\n",
       "    <tr>\n",
       "      <th>106</th>\n",
       "      <td>HYUNDAI</td>\n",
       "      <td>IX 35</td>\n",
       "      <td>LJ08AIU</td>\n",
       "      <td>U5YZT81VABL024088</td>\n",
       "      <td>KOVINSKI - RJAVA</td>\n",
       "      <td>16.12.2020</td>\n",
       "      <td>HYUNDAI ix35 / 2.0 / CRDi LP</td>\n",
       "      <td>2010</td>\n",
       "      <td>1</td>\n",
       "      <td>kovinski - RJAVA - TEMNA</td>\n",
       "      <td>Dizel</td>\n",
       "      <td>D4HA</td>\n",
       "      <td>100 kW</td>\n",
       "      <td>1995 ccm</td>\n",
       "      <td>EURO 5</td>\n",
       "      <td>2010-06-03</td>\n",
       "      <td>2010-06-03</td>\n",
       "      <td>Pravna oseba</td>\n",
       "    </tr>\n",
       "    <tr>\n",
       "      <th>340</th>\n",
       "      <td>MERCEDES BENZ</td>\n",
       "      <td></td>\n",
       "      <td>LJ042KM</td>\n",
       "      <td>WDC1569081J398818</td>\n",
       "      <td>NAVADEN - ČRNA</td>\n",
       "      <td>18.06.2020</td>\n",
       "      <td>MERCEDES BENZ GLA / 200 / d AUT.</td>\n",
       "      <td>None</td>\n",
       "      <td>1</td>\n",
       "      <td>navaden - ČRNA - TEMNA</td>\n",
       "      <td>Dizel</td>\n",
       "      <td>651.930</td>\n",
       "      <td>100 kW</td>\n",
       "      <td>2143 ccm</td>\n",
       "      <td>EURO 6</td>\n",
       "      <td>2017-07-25</td>\n",
       "      <td>2017-07-25</td>\n",
       "      <td>Pravna oseba</td>\n",
       "    </tr>\n",
       "    <tr>\n",
       "      <th>521</th>\n",
       "      <td>MERCEDES BENZ</td>\n",
       "      <td>E 200</td>\n",
       "      <td>LJ17MEH</td>\n",
       "      <td>WDD2120051A596347</td>\n",
       "      <td>KOVINSKI - ČRNA</td>\n",
       "      <td>23.12.2019</td>\n",
       "      <td>MERCEDES BENZ E / 200 / CDI AUT.</td>\n",
       "      <td>2012</td>\n",
       "      <td>1</td>\n",
       "      <td>kovinski - ČRNA - TEMNA</td>\n",
       "      <td>Dizel</td>\n",
       "      <td>651.925</td>\n",
       "      <td>100 kW</td>\n",
       "      <td>2143 ccm</td>\n",
       "      <td>EURO 5</td>\n",
       "      <td>2012-01-30</td>\n",
       "      <td>2018-01-25 UVOŽEN</td>\n",
       "      <td>Pravna oseba</td>\n",
       "    </tr>\n",
       "    <tr>\n",
       "      <th>531</th>\n",
       "      <td>OPEL</td>\n",
       "      <td>VSI TIPI</td>\n",
       "      <td>CEAK945</td>\n",
       "      <td>W0LJ7B7BSCV633861</td>\n",
       "      <td>KOVINSKI - SIVA</td>\n",
       "      <td>03.12.2019</td>\n",
       "      <td>OPEL VIVARO / COMBI 2.0 / DT</td>\n",
       "      <td>2013</td>\n",
       "      <td>1</td>\n",
       "      <td>kovinski - SIVA - SVETLA</td>\n",
       "      <td>Dizel</td>\n",
       "      <td>M9R F6</td>\n",
       "      <td>84 kW</td>\n",
       "      <td>1995 ccm</td>\n",
       "      <td>EURO 5</td>\n",
       "      <td>2013-02-07</td>\n",
       "      <td>2013-02-07</td>\n",
       "      <td>Pravna oseba</td>\n",
       "    </tr>\n",
       "    <tr>\n",
       "      <th>...</th>\n",
       "      <td>...</td>\n",
       "      <td>...</td>\n",
       "      <td>...</td>\n",
       "      <td>...</td>\n",
       "      <td>...</td>\n",
       "      <td>...</td>\n",
       "      <td>...</td>\n",
       "      <td>...</td>\n",
       "      <td>...</td>\n",
       "      <td>...</td>\n",
       "      <td>...</td>\n",
       "      <td>...</td>\n",
       "      <td>...</td>\n",
       "      <td>...</td>\n",
       "      <td>...</td>\n",
       "      <td>...</td>\n",
       "      <td>...</td>\n",
       "      <td>...</td>\n",
       "    </tr>\n",
       "    <tr>\n",
       "      <th>16744</th>\n",
       "      <td>AUDI</td>\n",
       "      <td></td>\n",
       "      <td>LJN616F</td>\n",
       "      <td>WAUZZZ8LZVA127918</td>\n",
       "      <td></td>\n",
       "      <td>22.12.1999</td>\n",
       "      <td>AUDI None</td>\n",
       "      <td>None</td>\n",
       "      <td>3</td>\n",
       "      <td>None</td>\n",
       "      <td>None</td>\n",
       "      <td>None</td>\n",
       "      <td>/ kW</td>\n",
       "      <td>/ ccm</td>\n",
       "      <td>ni podatka</td>\n",
       "      <td>1997-08-01</td>\n",
       "      <td>None UVOŽEN</td>\n",
       "      <td>BREZ PODATKA</td>\n",
       "    </tr>\n",
       "    <tr>\n",
       "      <th>16755</th>\n",
       "      <td>VOLKSWAGEN</td>\n",
       "      <td>GOLF</td>\n",
       "      <td>GO7101R</td>\n",
       "      <td>WVWZZZ1HZSW082725</td>\n",
       "      <td>NAVADEN - MODRA</td>\n",
       "      <td>14.12.1999</td>\n",
       "      <td>VOLKSWAGEN None</td>\n",
       "      <td>None</td>\n",
       "      <td>2</td>\n",
       "      <td>None</td>\n",
       "      <td>None</td>\n",
       "      <td>None</td>\n",
       "      <td>/ kW</td>\n",
       "      <td>/ ccm</td>\n",
       "      <td>ni podatka</td>\n",
       "      <td>1994-10-01</td>\n",
       "      <td>None UVOŽEN</td>\n",
       "      <td>23 let</td>\n",
       "    </tr>\n",
       "    <tr>\n",
       "      <th>16759</th>\n",
       "      <td>DAEWOO</td>\n",
       "      <td>NUBIRA</td>\n",
       "      <td>LJH156Z</td>\n",
       "      <td>KLAJF696EWK186972</td>\n",
       "      <td>KOVINSKI - RUMENA</td>\n",
       "      <td>10.12.1999</td>\n",
       "      <td>DAEWOO None</td>\n",
       "      <td>None</td>\n",
       "      <td>1</td>\n",
       "      <td>None</td>\n",
       "      <td>None</td>\n",
       "      <td>None</td>\n",
       "      <td>/ kW</td>\n",
       "      <td>/ ccm</td>\n",
       "      <td>ni podatka</td>\n",
       "      <td>1998-09-01</td>\n",
       "      <td>None UVOŽEN</td>\n",
       "      <td>-1 let</td>\n",
       "    </tr>\n",
       "    <tr>\n",
       "      <th>16772</th>\n",
       "      <td>RENAULT</td>\n",
       "      <td>MEGANE</td>\n",
       "      <td>MB5246N</td>\n",
       "      <td>VF1DA0F0G18372877</td>\n",
       "      <td>KOVINSKI - ZELENA</td>\n",
       "      <td>02.12.1999</td>\n",
       "      <td>RENAULT None</td>\n",
       "      <td>None</td>\n",
       "      <td>1</td>\n",
       "      <td>None</td>\n",
       "      <td>None</td>\n",
       "      <td>None</td>\n",
       "      <td>/ kW</td>\n",
       "      <td>/ ccm</td>\n",
       "      <td>ni podatka</td>\n",
       "      <td>1998-07-01</td>\n",
       "      <td>None UVOŽEN</td>\n",
       "      <td>BREZ PODATKA</td>\n",
       "    </tr>\n",
       "    <tr>\n",
       "      <th>16775</th>\n",
       "      <td>SUZUKI</td>\n",
       "      <td>SAMURAI</td>\n",
       "      <td>KP8980D</td>\n",
       "      <td>JSA0SJ70V00406479</td>\n",
       "      <td>NAVADEN - MODRA</td>\n",
       "      <td>01.12.1999</td>\n",
       "      <td>SUZUKI SAMURAI / VX HD</td>\n",
       "      <td>None</td>\n",
       "      <td>1</td>\n",
       "      <td>None</td>\n",
       "      <td>None</td>\n",
       "      <td>None</td>\n",
       "      <td>/ kW</td>\n",
       "      <td>/ ccm</td>\n",
       "      <td>ni podatka</td>\n",
       "      <td>1996-06-01</td>\n",
       "      <td>1996-06-21 UVOŽEN</td>\n",
       "      <td>Fizična oseba 64 let</td>\n",
       "    </tr>\n",
       "  </tbody>\n",
       "</table>\n",
       "<p>129 rows × 18 columns</p>\n",
       "</div>"
      ],
      "text/plain": [
       "              znamka       tip registrska             sasija  \\\n",
       "78              AUDI        Q7    LJ13GVM  WAUZZZ4L67D055025   \n",
       "106          HYUNDAI     IX 35    LJ08AIU  U5YZT81VABL024088   \n",
       "340    MERCEDES BENZ              LJ042KM  WDC1569081J398818   \n",
       "521    MERCEDES BENZ     E 200    LJ17MEH  WDD2120051A596347   \n",
       "531             OPEL  VSI TIPI    CEAK945  W0LJ7B7BSCV633861   \n",
       "...              ...       ...        ...                ...   \n",
       "16744           AUDI              LJN616F  WAUZZZ8LZVA127918   \n",
       "16755     VOLKSWAGEN      GOLF    GO7101R  WVWZZZ1HZSW082725   \n",
       "16759         DAEWOO    NUBIRA    LJH156Z  KLAJF696EWK186972   \n",
       "16772        RENAULT    MEGANE    MB5246N  VF1DA0F0G18372877   \n",
       "16775         SUZUKI   SAMURAI    KP8980D  JSA0SJ70V00406479   \n",
       "\n",
       "                   barva datumodvzema                     Znamka vozila  \\\n",
       "78       KOVINSKI - SIVA   13.01.2021        AUDI Q7 / 3.0 / TDI Q AUT.   \n",
       "106     KOVINSKI - RJAVA   16.12.2020      HYUNDAI ix35 / 2.0 / CRDi LP   \n",
       "340       NAVADEN - ČRNA   18.06.2020  MERCEDES BENZ GLA / 200 / d AUT.   \n",
       "521      KOVINSKI - ČRNA   23.12.2019  MERCEDES BENZ E / 200 / CDI AUT.   \n",
       "531      KOVINSKI - SIVA   03.12.2019      OPEL VIVARO / COMBI 2.0 / DT   \n",
       "...                  ...          ...                               ...   \n",
       "16744                      22.12.1999                         AUDI None   \n",
       "16755    NAVADEN - MODRA   14.12.1999                   VOLKSWAGEN None   \n",
       "16759  KOVINSKI - RUMENA   10.12.1999                       DAEWOO None   \n",
       "16772  KOVINSKI - ZELENA   02.12.1999                      RENAULT None   \n",
       "16775    NAVADEN - MODRA   01.12.1999            SUZUKI SAMURAI / VX HD   \n",
       "\n",
       "      Leto izdelave  Število lastnikov                     Barva Vrsta goriva  \\\n",
       "78             2006                  2  kovinski - SIVA - SVETLA        Dizel   \n",
       "106            2010                  1  kovinski - RJAVA - TEMNA        Dizel   \n",
       "340            None                  1    navaden - ČRNA - TEMNA        Dizel   \n",
       "521            2012                  1   kovinski - ČRNA - TEMNA        Dizel   \n",
       "531            2013                  1  kovinski - SIVA - SVETLA        Dizel   \n",
       "...             ...                ...                       ...          ...   \n",
       "16744          None                  3                      None         None   \n",
       "16755          None                  2                      None         None   \n",
       "16759          None                  1                      None         None   \n",
       "16772          None                  1                      None         None   \n",
       "16775          None                  1                      None         None   \n",
       "\n",
       "      Oznaka motorja     Moč Prostornina EURO oznaka Prva registracija  \\\n",
       "78               BUG  171 kW    2967 ccm      EURO 4        2006-11-02   \n",
       "106             D4HA  100 kW    1995 ccm      EURO 5        2010-06-03   \n",
       "340          651.930  100 kW    2143 ccm      EURO 6        2017-07-25   \n",
       "521          651.925  100 kW    2143 ccm      EURO 5        2012-01-30   \n",
       "531           M9R F6   84 kW    1995 ccm      EURO 5        2013-02-07   \n",
       "...              ...     ...         ...         ...               ...   \n",
       "16744           None    / kW       / ccm  ni podatka        1997-08-01   \n",
       "16755           None    / kW       / ccm  ni podatka        1994-10-01   \n",
       "16759           None    / kW       / ccm  ni podatka        1998-09-01   \n",
       "16772           None    / kW       / ccm  ni podatka        1998-07-01   \n",
       "16775           None    / kW       / ccm  ni podatka        1996-06-01   \n",
       "\n",
       "      Prve registracija (SI)        Status/starost  \n",
       "78                2006-11-02          Pravna oseba  \n",
       "106               2010-06-03          Pravna oseba  \n",
       "340               2017-07-25          Pravna oseba  \n",
       "521        2018-01-25 UVOŽEN          Pravna oseba  \n",
       "531               2013-02-07          Pravna oseba  \n",
       "...                      ...                   ...  \n",
       "16744            None UVOŽEN          BREZ PODATKA  \n",
       "16755            None UVOŽEN                23 let  \n",
       "16759            None UVOŽEN                -1 let  \n",
       "16772            None UVOŽEN          BREZ PODATKA  \n",
       "16775      1996-06-21 UVOŽEN  Fizična oseba 64 let  \n",
       "\n",
       "[129 rows x 18 columns]"
      ]
     },
     "execution_count": 84,
     "metadata": {},
     "output_type": "execute_result"
    }
   ],
   "source": [
    "#Obstajajo tudi podvojeni zapisi(bodisi večkrat ukradeni, bodisi večkrat prijavljeni)\n",
    "#merged[merged.duplicated(subset=['sasija'])]"
   ]
  },
  {
   "cell_type": "code",
   "execution_count": 38,
   "id": "trained-national",
   "metadata": {},
   "outputs": [],
   "source": [
    "#Podvojeni zapisi\n",
    "del vozila[\"barva\"]\n",
    "del vozilaAL[\"Znamka vozila\"]"
   ]
  },
  {
   "cell_type": "code",
   "execution_count": 71,
   "id": "large-profit",
   "metadata": {},
   "outputs": [],
   "source": [
    "#Množica vseh veljavnih registerskih tablic\n",
    "mesta = set(kMesta[\"Kratica\"])"
   ]
  },
  {
   "cell_type": "code",
   "execution_count": 74,
   "id": "later-celebration",
   "metadata": {},
   "outputs": [],
   "source": [
    "#Slovar, ki drži število vseh ponovitev posameze oznake registerske\n",
    "poMestih = defaultdict(int)\n",
    "for index, row in merged.iterrows():\n",
    "    mesto = row[2][0:2]\n",
    "    if (mesto[0] == \"P\" and mesto[1].isdigit()):\n",
    "        poMestih[\"P\"] += 1\n",
    "    elif (mesto[0] == \"M\" and mesto[1].isdigit()):\n",
    "        poMestih[\"M\"] += 1\n",
    "    else:\n",
    "        if mesto in mesta:\n",
    "            poMestih[mesto] += 1\n",
    "        else:\n",
    "            poMestih[\"Drugo\"] += 1"
   ]
  },
  {
   "cell_type": "code",
   "execution_count": 81,
   "id": "advance-newport",
   "metadata": {},
   "outputs": [],
   "source": [
    "#Glede na vrednost slovar uredi.\n",
    "poMestihUrejen = {key: value for key, value in sorted(poMestih.items(), key=lambda item: item[1])}"
   ]
  },
  {
   "cell_type": "code",
   "execution_count": 96,
   "id": "systematic-calcium",
   "metadata": {},
   "outputs": [
    {
     "data": {
      "image/png": "[encoded data removed]",
      "text/plain": [
       "<Figure size 1800x720 with 1 Axes>"
      ]
     },
     "metadata": {
      "needs_background": "light"
     },
     "output_type": "display_data"
    }
   ],
   "source": [
    "#Izris urejenega grafa.\n",
    "plt.figure(figsize=(25,10))\n",
    "plt.bar(*zip(*poMestihUrejen.items()))\n",
    "for index, value in enumerate(poMestihUrejen.values()):\n",
    "    plt.text(index, value, str(value), color=\"black\", fontweight=\"bold\", fontsize=\"large\", ha=\"center\")\n",
    "\n",
    "plt.show()"
   ]
  },
  {
   "cell_type": "code",
   "execution_count": null,
   "id": "arabic-button",
   "metadata": {},
   "outputs": [],
   "source": []
  }
 ],
 "metadata": {
  "kernelspec": {
   "display_name": "Python 3",
   "language": "python",
   "name": "python3"
  },
  "language_info": {
   "codemirror_mode": {
    "name": "ipython",
    "version": 3
   },
   "file_extension": ".py",
   "mimetype": "text/x-python",
   "name": "python",
   "nbconvert_exporter": "python",
   "pygments_lexer": "ipython3",
   "version": "3.7.4"
  }
 },
 "nbformat": 4,
 "nbformat_minor": 5
}
