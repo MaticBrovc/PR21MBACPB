{
 "cells": [
  {
   "cell_type": "markdown",
   "id": "monetary-flight",
   "metadata": {},
   "source": [
    "# Seminarska naloga iz Podatkovnega Rudarjenja 2020/2021"
   ]
  },
  {
   "cell_type": "markdown",
   "id": "foreign-composite",
   "metadata": {},
   "source": [
    "### Odločili smo se za nalogo: ukradena vozila."
   ]
  },
  {
   "cell_type": "code",
   "execution_count": 1,
   "id": "above-apparel",
   "metadata": {},
   "outputs": [],
   "source": [
    "import pandas as pd"
   ]
  },
  {
   "cell_type": "code",
   "execution_count": 78,
   "id": "manufactured-cameroon",
   "metadata": {},
   "outputs": [
    {
     "name": "stdout",
     "output_type": "stream",
     "text": [
      "Collecting beautifulsoup4\n",
      "  Using cached beautifulsoup4-4.9.3-py3-none-any.whl (115 kB)\n",
      "Collecting soupsieve>1.2\n",
      "  Using cached soupsieve-2.2.1-py3-none-any.whl (33 kB)\n",
      "Installing collected packages: soupsieve, beautifulsoup4\n",
      "Successfully installed beautifulsoup4-4.9.3 soupsieve-2.2.1\n"
     ]
    }
   ],
   "source": [
    "#import sys\n",
    "#!{sys.executable} -m pip install beautifulsoup4"
   ]
  },
  {
   "cell_type": "code",
   "execution_count": 2,
   "id": "touched-canon",
   "metadata": {},
   "outputs": [],
   "source": [
    "vozila = pd.read_csv(\"ukrvozila.csv\", sep=\";\")\n",
    "kMesta = pd.read_csv(\"kraticeMesta.txt\", sep=\";\")"
   ]
  },
  {
   "cell_type": "code",
   "execution_count": 72,
   "id": "convinced-scheduling",
   "metadata": {},
   "outputs": [],
   "source": [
    "#kMesta"
   ]
  },
  {
   "cell_type": "code",
   "execution_count": 73,
   "id": "trying-french",
   "metadata": {},
   "outputs": [],
   "source": [
    "#vozila.iloc[15136,:]"
   ]
  },
  {
   "cell_type": "code",
   "execution_count": 74,
   "id": "indirect-tennis",
   "metadata": {},
   "outputs": [
    {
     "data": {
      "text/plain": [
       "False"
      ]
     },
     "execution_count": 74,
     "metadata": {},
     "output_type": "execute_result"
    }
   ],
   "source": [
    "vozila['znamka'].isnull().values.any() #true\n",
    "vozila['tip'].isnull().values.any() #true\n",
    "vozila['registrska'].isnull().values.any() #true\n",
    "vozila['sasija'].isnull().values.any() #false\n",
    "vozila['barva'].isnull().values.any() #true\n",
    "vozila['datumodvzema'].isnull().values.any() #false"
   ]
  },
  {
   "cell_type": "code",
   "execution_count": 75,
   "id": "monetary-doctor",
   "metadata": {},
   "outputs": [],
   "source": [
    "vozila['znamka'] = vozila['znamka'].fillna(\"\")\n",
    "vozila['tip'] = vozila['tip'].fillna(\"\")\n",
    "vozila['registrska'] = vozila['registrska'].fillna(\"\")\n",
    "vozila['barva'] = vozila['barva'].fillna(\"\")"
   ]
  },
  {
   "cell_type": "code",
   "execution_count": 76,
   "id": "established-franklin",
   "metadata": {},
   "outputs": [
    {
     "data": {
      "text/plain": [
       "5108     INSQ5005\n",
       "15136      IEH257\n",
       "Name: registrska, dtype: object"
      ]
     },
     "execution_count": 76,
     "metadata": {},
     "output_type": "execute_result"
    }
   ],
   "source": [
    "vozila[\"registrska\"][vozila[\"registrska\"].str.contains(\"^I\")]"
   ]
  },
  {
   "cell_type": "markdown",
   "id": "terminal-donor",
   "metadata": {},
   "source": [
    "## Parser"
   ]
  },
  {
   "cell_type": "code",
   "execution_count": 3,
   "id": "positive-vector",
   "metadata": {},
   "outputs": [],
   "source": [
    "import requests\n",
    "from bs4 import BeautifulSoup"
   ]
  },
  {
   "cell_type": "code",
   "execution_count": 52,
   "id": "tough-tribute",
   "metadata": {},
   "outputs": [],
   "source": [
    "import re"
   ]
  },
  {
   "cell_type": "code",
   "execution_count": 231,
   "id": "animal-australian",
   "metadata": {},
   "outputs": [],
   "source": [
    "url=\"http://avtolog.si/search/SWNH30000A0002248/\"\n",
    "\n",
    "# Make a GET request to fetch the raw HTML content\n",
    "html_content = requests.get(url).text\n",
    "\n",
    "# Parse the html content\n",
    "parsed_html = BeautifulSoup(html_content,'html.parser')"
   ]
  },
  {
   "cell_type": "code",
   "execution_count": 232,
   "id": "vertical-hydrogen",
   "metadata": {},
   "outputs": [
    {
     "data": {
      "text/plain": [
       "'NIEWIADOW H3000 20K 5220 - Avtolog'"
      ]
     },
     "execution_count": 232,
     "metadata": {},
     "output_type": "execute_result"
    }
   ],
   "source": [
    "parsed_html.title.text"
   ]
  },
  {
   "cell_type": "code",
   "execution_count": 233,
   "id": "proved-netherlands",
   "metadata": {},
   "outputs": [],
   "source": [
    "gdp_table = parsed_html.find_all(\"h3\", attrs={\"class\": \"collapsible-header\"})\n",
    "#gdp_table"
   ]
  },
  {
   "cell_type": "code",
   "execution_count": 234,
   "id": "celtic-agreement",
   "metadata": {},
   "outputs": [
    {
     "name": "stdout",
     "output_type": "stream",
     "text": [
      "Podatki o vozilu\n",
      "Tehnični pregledi\n",
      "Podatki o lastniku\n",
      "Zgodovina vozila\n"
     ]
    }
   ],
   "source": [
    "for h3 in gdp_table:\n",
    "    a = re.sub(\"\\n+\", \" \", h3.text.strip())\n",
    "    print(re.sub(\" +\", \" \", a))"
   ]
  },
  {
   "cell_type": "code",
   "execution_count": 235,
   "id": "great-spokesman",
   "metadata": {},
   "outputs": [],
   "source": [
    "allTables = parsed_html.find_all(\"div\", attrs={\"class\": \"pane\"})"
   ]
  },
  {
   "cell_type": "code",
   "execution_count": 238,
   "id": "novel-passage",
   "metadata": {},
   "outputs": [
    {
     "data": {
      "text/plain": [
       "[('Znamka vozila', 'NIEWIADOW H3000 20K 5220'),\n",
       " ('Leto izdelave', '2011'),\n",
       " ('Število lastnikov', '1'),\n",
       " ('Barva', 'kovinski - SIVA - SVETLA'),\n",
       " ('Vrsta goriva', 'Ni goriva'),\n",
       " ('Oznaka motorja', 'None'),\n",
       " ('Moč', '-1 kW'),\n",
       " ('Prostornina', '-1 ccm'),\n",
       " ('EURO oznaka', 'ni podatka'),\n",
       " ('Prva registracija', '2011-07-26'),\n",
       " ('Prve registracija (SI)', '2011-07-26'),\n",
       " ('Status/starost', 'Pravna oseba')]"
      ]
     },
     "execution_count": 238,
     "metadata": {},
     "output_type": "execute_result"
    }
   ],
   "source": [
    "d1 = allTables[0]\n",
    "d3 = allTables[2]\n",
    "\n",
    "t1 = d1.findAll(\"table\")[0]\n",
    "t_headers = []\n",
    "for th in t1.find_all(\"th\"):\n",
    "    # remove any newlines and extra spaces from left and right\n",
    "    t_headers.append(th.text.replace('\\n', ' ').strip())\n",
    "#print(t_headers)\n",
    "table_data = []\n",
    "for td in t1.find_all(\"td\"):\n",
    "    a = re.sub(\"\\n +\",\" \", td.text.strip())\n",
    "    tdt = re.sub(\" +\",\" \", a)\n",
    "    table_data.append(tdt)\n",
    "sz = [x for x in zip(t_headers, table_data)]    \n",
    "if(d3.findAll(\"table\") != []):\n",
    "    t3 = d3.findAll(\"table\")[0]\n",
    "    tds = t3.find_all(\"td\")[-3]\n",
    "    a = re.sub(\"\\n +\",\" \", tds.text.strip())\n",
    "    sz.append(('Status/starost',re.sub(\" +\",\" \", a)))\n",
    "\n",
    "sz"
   ]
  },
  {
   "cell_type": "code",
   "execution_count": 239,
   "id": "mature-delhi",
   "metadata": {
    "scrolled": true
   },
   "outputs": [
    {
     "name": "stdout",
     "output_type": "stream",
     "text": [
      "test\n"
     ]
    }
   ],
   "source": [
    "\"\"\"\n",
    "h1 = gdp_table[0].text.replace(\"\\n\",\" \").strip()\n",
    "h3 = gdp_table[2].text.replace(\"\\n\",\" \").strip()\n",
    "t1 = allTables[0]\n",
    "t3 = allTables[2]\n",
    "\n",
    "\n",
    "t_headers = []\n",
    "for th in t1.find_all(\"th\"):\n",
    "    # remove any newlines and extra spaces from left and right\n",
    "    t_headers.append(th.text.replace('\\n', ' ').strip())\n",
    "#print(t_headers)\n",
    "table_data = []\n",
    "for td in t1.find_all(\"td\"):\n",
    "    a = re.sub(\"\\n +\",\" \", td.text.strip())\n",
    "    tdt = re.sub(\" +\",\" \", a)\n",
    "    table_data.append(tdt)\n",
    "    \n",
    "tds = t3.find_all(\"td\")[-3]\n",
    "a = re.sub(\"\\n +\",\" \", tds.text.strip())\n",
    "\n",
    "import numpy as np\n",
    "\n",
    "z = np.array(zip(t_headers,table_data)) \n",
    "z.shape\n",
    "\n",
    "\n",
    "sz = [x for x in zip(t_headers, table_data)]\n",
    "sz.append(('Starost',re.sub(\" +\",\" \", a)))\n",
    "#print(\"Starost: {}\".format(re.sub(\" +\",\" \", a))) \n",
    "\"\"\"\n",
    "print(\"test\")"
   ]
  },
  {
   "cell_type": "code",
   "execution_count": 92,
   "id": "bridal-coordination",
   "metadata": {},
   "outputs": [],
   "source": []
  }
 ],
 "metadata": {
  "kernelspec": {
   "display_name": "Python 3",
   "language": "python",
   "name": "python3"
  },
  "language_info": {
   "codemirror_mode": {
    "name": "ipython",
    "version": 3
   },
   "file_extension": ".py",
   "mimetype": "text/x-python",
   "name": "python",
   "nbconvert_exporter": "python",
   "pygments_lexer": "ipython3",
   "version": "3.7.4"
  }
 },
 "nbformat": 4,
 "nbformat_minor": 5
}
