{
 "cells": [
  {
   "cell_type": "markdown",
   "id": "monetary-flight",
   "metadata": {},
   "source": [
    "# Seminarska naloga iz Podatkovnega Rudarjenja 2020/2021"
   ]
  },
  {
   "cell_type": "markdown",
   "id": "foreign-composite",
   "metadata": {},
   "source": [
    "### Odločili smo se za nalogo: ukradena vozila."
   ]
  },
  {
   "cell_type": "markdown",
   "id": "obvious-restriction",
   "metadata": {},
   "source": [
    "### <font color='orange'>In progress [ &#9874; ] </font>&nbsp; <font color='red'>Declined [ ✗ ]</font> &nbsp;<font color='green'>Finished [ ✓ ]</font>\n",
    "\n",
    "* <font color='green'>Priprava osnovnega parserja [ ✓ ]</font>   <br/>\n",
    "* <font color='green'>Priprava tabele z kraticami in mesti registracijskih [ ✓ ]</font>   <br/>\n",
    "* <font color='green'>Pridobi možne podatke s spletne strani avtolog.si [ ✓ ]</font>   <br/>\n",
    "* <font color='green'>v katerem mestu je največ kraj( glede na tablico MB,LJ,..) [ ✓ ] </font>  <br/>\n",
    "* <font color='green'>katera znamka je najbolj kradena [ ✓ ] </font><font color='orange'>(lahko tudi glede na mesto) [ &#9874; ] </font> <br/>\n",
    "* <font color='green'>kateri tip je najbolj kraden [ ✓ ] </font><font color='orange'>(lahko tudi glede na mesto) [ &#9874; ] </font> <br/>\n",
    "* <font color='green'>ali je večina ukradenih starejših/novejših od X leta [ ✓ ]</font> <i>Novejši od 4 let </i>  <br/>\n",
    "* <font color='red'>ali so ukredena vozila dražja/cenejša od X vrednosti [ ✗ ]</font>  <br/>\n",
    "* <font color='green'>koliko vozil je bilo ukradenih za vsako leto [ ✓ ]</font>  <br/>\n",
    "* <font color='orange'>katera barva je najbolj kradena [ &#9874; ]</font>  <br/>\n",
    "* <font color='orange'>??Ali so cena avtomobila in kraja avtomobila povezana [ &#9874; ]</font>  <br/>\n",
    "* <font color='orange'>Verjetnost, da ti ukradejo avto če si iz mesta X (st_Ukradenih_avtov_mesto / prebivalstvo_mesto) [ &#9874; ]</font>  <br/>\n",
    "* <font color='green'>Kraja po starosti vozila [ ✓ ]</font>  <br/>\n",
    "\n"
   ]
  },
  {
   "cell_type": "code",
   "execution_count": 78,
   "id": "above-apparel",
   "metadata": {},
   "outputs": [],
   "source": [
    "import pandas as pd\n",
    "import requests\n",
    "from bs4 import BeautifulSoup\n",
    "import re\n",
    "import csv\n",
    "from collections import defaultdict\n",
    "import matplotlib.pyplot as plt\n",
    "from itertools import islice\n",
    "\n",
    "import functools #Za unikatne igralce\n",
    "import operator #Za unikatne igralce\n",
    "from collections import Counter #Za stetje dolocenih\n",
    "\n",
    "import datetime"
   ]
  },
  {
   "cell_type": "code",
   "execution_count": 2,
   "id": "manufactured-cameroon",
   "metadata": {},
   "outputs": [],
   "source": [
    "#import sys\n",
    "#!{sys.executable} -m pip install beautifulsoup4"
   ]
  },
  {
   "cell_type": "code",
   "execution_count": 3,
   "id": "touched-canon",
   "metadata": {},
   "outputs": [],
   "source": [
    "vozila = pd.read_csv(\"ukrvozila.csv\", sep=\";\")\n",
    "kMesta = pd.read_csv(\"kraticeMesta.txt\", sep=\";\")"
   ]
  },
  {
   "cell_type": "code",
   "execution_count": 4,
   "id": "million-sudan",
   "metadata": {},
   "outputs": [],
   "source": [
    "KM = {}\n",
    "for index, row in kMesta.iterrows():\n",
    "    KM[row[0]] = row[1]\n",
    "KM[\"Drugo\"] = \"Drugo\""
   ]
  },
  {
   "cell_type": "code",
   "execution_count": 5,
   "id": "indirect-tennis",
   "metadata": {},
   "outputs": [
    {
     "data": {
      "text/plain": [
       "False"
      ]
     },
     "execution_count": 5,
     "metadata": {},
     "output_type": "execute_result"
    }
   ],
   "source": [
    "vozila['znamka'].isnull().values.any() #true\n",
    "vozila['tip'].isnull().values.any() #true\n",
    "vozila['registrska'].isnull().values.any() #true\n",
    "vozila['sasija'].isnull().values.any() #false\n",
    "vozila['barva'].isnull().values.any() #true\n",
    "vozila['datumodvzema'].isnull().values.any() #false"
   ]
  },
  {
   "cell_type": "code",
   "execution_count": 6,
   "id": "monetary-doctor",
   "metadata": {},
   "outputs": [],
   "source": [
    "vozila['znamka'] = vozila['znamka'].fillna(\"BREZ\")\n",
    "vozila['tip'] = vozila['tip'].fillna(\"BREZ\")\n",
    "vozila['registrska'] = vozila['registrska'].fillna(\"BREZ\")\n",
    "vozila['barva'] = vozila['barva'].fillna(\"BREZ\")"
   ]
  },
  {
   "cell_type": "code",
   "execution_count": 7,
   "id": "established-franklin",
   "metadata": {},
   "outputs": [],
   "source": [
    "#Znebimo se vseh nepopolnih registerskih za lažjo predstavitev podatkov.\n",
    "vozila.loc[(vozila[\"registrska\"] == ''), 'registrska'] = \"BREZ\"\n",
    "vozila.loc[(vozila[\"registrska\"] == 'N'), 'registrska'] = \"BREZ\"\n",
    "vozila.loc[(vozila[\"registrska\"] == '0'), 'registrska'] = \"BREZ\"\n",
    "vozila.loc[(vozila[\"registrska\"] == 'X'), 'registrska'] = \"BREZ\""
   ]
  },
  {
   "cell_type": "markdown",
   "id": "terminal-donor",
   "metadata": {},
   "source": [
    "## Parser"
   ]
  },
  {
   "cell_type": "code",
   "execution_count": 8,
   "id": "bridal-coordination",
   "metadata": {},
   "outputs": [],
   "source": [
    "def getWebsiteData(sasija):\n",
    "    \n",
    "    url=\"http://avtolog.si/search/\"+sasija+\"/\"\n",
    "    html_content = requests.get(url).text\n",
    "    parsed_html = BeautifulSoup(html_content,'html.parser')\n",
    "    \n",
    "    ## Get table data\n",
    "    allTables = parsed_html.find_all(\"div\", attrs={\"class\": \"pane\"})\n",
    "    \n",
    "    #Take the usefull data: Podatki o vozilu; Podatki o lastniku.\n",
    "    d1 = allTables[0]\n",
    "    d3 = allTables[2]\n",
    "\n",
    "    t1 = d1.findAll(\"table\")[0]\n",
    "    t_headers = []\n",
    "    for th in t1.find_all(\"th\"):\n",
    "        # remove any newlines and extra spaces from left and right\n",
    "        t_headers.append(th.text.replace('\\n', ' ').strip())\n",
    "    #print(t_headers)\n",
    "    table_data = []\n",
    "    for td in t1.find_all(\"td\"):\n",
    "        a = re.sub(\"\\n +\",\" \", td.text.strip())\n",
    "        tdt = re.sub(\" +\",\" \", a)\n",
    "        table_data.append(tdt)\n",
    "    sz = [x for x in zip(t_headers, table_data)]    \n",
    "    if(d3.findAll(\"table\") != []):\n",
    "        t3 = d3.findAll(\"table\")[0]\n",
    "        tds = t3.find_all(\"td\")[-3]\n",
    "        a = re.sub(\"\\n +\",\" \", tds.text.strip())\n",
    "        sz.append(('Status/starost',re.sub(\" +\",\" \", a)))\n",
    "    s = (\"sasija\", sasija)\n",
    "    sz.insert(0,s)\n",
    "    return sz\n"
   ]
  },
  {
   "cell_type": "code",
   "execution_count": 9,
   "id": "small-diagram",
   "metadata": {},
   "outputs": [],
   "source": [
    "#getWebsiteData(\"SWNH30000A0002248\")"
   ]
  },
  {
   "cell_type": "code",
   "execution_count": 10,
   "id": "sustainable-power",
   "metadata": {},
   "outputs": [],
   "source": [
    "#V0_2000 = vozila[\"sasija\"][0:2000] #done\n",
    "#V2000_4000 = vozila[\"sasija\"][2000:4000] #done\n",
    "#V4000_6000 = vozila[\"sasija\"][4000:6000] #done\n",
    "#V6000_8000 = vozila[\"sasija\"][6000:8000] #done\n",
    "#V8000_10000 = vozila[\"sasija\"][8000:10000] #done\n",
    "#V10000_12000 = vozila[\"sasija\"][10000:12000] #done\n",
    "#V12000_14000 = vozila[\"sasija\"][12000:14000] #done\n",
    "#V14000_16000 = vozila[\"sasija\"][14000:16000] #done\n",
    "#V16000_konc = vozila[\"sasija\"][16000:] #done"
   ]
  },
  {
   "cell_type": "code",
   "execution_count": 11,
   "id": "regulation-musician",
   "metadata": {},
   "outputs": [],
   "source": [
    "#print(len(V0_2000) + len(V2000_4000) + len(V4000_6000) + len(V6000_8000) + len(V8000_10000) + len(V10000_12000) + len(V12000_14000) + len(V14000_16000) + len(V16000_konc))"
   ]
  },
  {
   "cell_type": "code",
   "execution_count": 12,
   "id": "official-connectivity",
   "metadata": {},
   "outputs": [],
   "source": [
    "#Done: 6000 - errors\n",
    "#V0_2000, 2000-4000, 4000-6000, 6000-8000, 8000-10000, 10000-12000\n",
    "def getDataFromRange(array):\n",
    "    c = 0;\n",
    "    dataArray = []\n",
    "    errorArray = []\n",
    "    for x in array:\n",
    "        try:\n",
    "            podatki = getWebsiteData(x)\n",
    "            dataArray.append(podatki)\n",
    "        except:\n",
    "            errorArray.append(c)\n",
    "        c+=1\n",
    "    return (dataArray, errorArray)\n"
   ]
  },
  {
   "cell_type": "code",
   "execution_count": 13,
   "id": "proof-legislation",
   "metadata": {},
   "outputs": [],
   "source": [
    "#Zaženi na vsake nekaj časa, da ne preobremenimo strežnika.\n",
    "#dataArray, errorArray = getDataFromRange(V16000_konc)\n"
   ]
  },
  {
   "cell_type": "code",
   "execution_count": 14,
   "id": "amber-rover",
   "metadata": {},
   "outputs": [],
   "source": [
    "#Preveri ali so podakti pravilno zapisani\n",
    "#dataArray"
   ]
  },
  {
   "cell_type": "code",
   "execution_count": 15,
   "id": "incoming-spray",
   "metadata": {},
   "outputs": [],
   "source": [
    "#counter = []\n",
    "#for x in dataArray:\n",
    "#    counter.append(len(x))"
   ]
  },
  {
   "cell_type": "code",
   "execution_count": 16,
   "id": "precise-sleeping",
   "metadata": {},
   "outputs": [],
   "source": [
    "#Preveri ali imajo vsi najmanj 12 in največ 13 vnosov.\n",
    "#set(counter)"
   ]
  },
  {
   "cell_type": "code",
   "execution_count": 17,
   "id": "naval-southwest",
   "metadata": {},
   "outputs": [],
   "source": [
    "#errorArray"
   ]
  },
  {
   "cell_type": "code",
   "execution_count": 18,
   "id": "general-principal",
   "metadata": {},
   "outputs": [],
   "source": [
    "#vozila.iloc[16000+18]"
   ]
  },
  {
   "cell_type": "code",
   "execution_count": 19,
   "id": "ongoing-suspension",
   "metadata": {},
   "outputs": [],
   "source": [
    "def addTotxtError(array, zacetna):\n",
    "    file = open('napake.txt', 'a')\n",
    "    for x in array:\n",
    "        er = vozila[\"sasija\"].iloc[x+zacetna]\n",
    "        file.write(er + \"\\n\")\n",
    "    file.close()\n"
   ]
  },
  {
   "cell_type": "code",
   "execution_count": 20,
   "id": "unauthorized-fortune",
   "metadata": {},
   "outputs": [],
   "source": [
    "def firstCsv():\n",
    "    with open('normal.csv', mode='a', newline='') as voz_file:\n",
    "        voz_writer = csv.writer(voz_file, delimiter=';', quotechar='\"', quoting=csv.QUOTE_MINIMAL)\n",
    "        headers = []\n",
    "        for x in dataArray[0]:\n",
    "            headers.append(x[0])\n",
    "        voz_writer.writerow(headers)\n",
    "        voz_file.close()\n",
    "\n",
    "def addTocsvNormal(array):\n",
    "     with open('normal.csv', mode='a', newline='') as voz_file:\n",
    "        voz_writer = csv.writer(voz_file, delimiter=';', quotechar='\"', quoting=csv.QUOTE_MINIMAL)\n",
    "        for x in array:\n",
    "            podatki = [y[1] for y in x]\n",
    "            if len(podatki) == 12:\n",
    "                podatki.append(\"BREZ\")\n",
    "            voz_writer.writerow(podatki)    \n",
    "        voz_file.close()"
   ]
  },
  {
   "cell_type": "code",
   "execution_count": 21,
   "id": "solved-press",
   "metadata": {},
   "outputs": [],
   "source": [
    "#Ko dobiš nove podatke zapiši vse errorje v datoteko.\n",
    "#addTotxtError(errorArray, 16000)"
   ]
  },
  {
   "cell_type": "code",
   "execution_count": 22,
   "id": "determined-dutch",
   "metadata": {},
   "outputs": [],
   "source": [
    "#Zaženi samo prvič, da se ustvarijo headerji\n",
    "#firstCsv()"
   ]
  },
  {
   "cell_type": "code",
   "execution_count": 23,
   "id": "missing-iceland",
   "metadata": {},
   "outputs": [],
   "source": [
    "#Vsakič ko dobiš nove podatke, zaženi.\n",
    "#addTocsvNormal(dataArray)"
   ]
  },
  {
   "cell_type": "markdown",
   "id": "virtual-sheriff",
   "metadata": {},
   "source": [
    "# Obdelava podatkov | statistika podatkov"
   ]
  },
  {
   "cell_type": "code",
   "execution_count": 24,
   "id": "informal-sally",
   "metadata": {},
   "outputs": [],
   "source": [
    "##Pridobi združeno tabelo po šasiji\n",
    "vozilaAL = pd.read_csv(\"normal.csv\", sep=\";\")\n",
    "#merge = vozila.merge(avtolog)"
   ]
  },
  {
   "cell_type": "code",
   "execution_count": 25,
   "id": "dressed-waters",
   "metadata": {},
   "outputs": [],
   "source": [
    "#vozilaAL"
   ]
  },
  {
   "cell_type": "code",
   "execution_count": 26,
   "id": "mental-manor",
   "metadata": {},
   "outputs": [],
   "source": [
    "#Za boljše podatke smo odstranili vse tiste podatke, ki so bili pomanjklivi(Niso imeli šasije ali pa je bila napačna)\n",
    "#Napake so napisane v napake.txt, zato jih je potrebno odstraniti. To pa zato, da bodo vse šasije unikatne.\n",
    "f = open(\"napake.txt\", \"r\")\n",
    "a = set()\n",
    "\n",
    "for x in f: \n",
    "  a.add(x.strip())"
   ]
  },
  {
   "cell_type": "code",
   "execution_count": 27,
   "id": "suited-institute",
   "metadata": {},
   "outputs": [],
   "source": [
    "vozila = vozila[~vozila['sasija'].isin(a)]\n",
    "#Obe tabeli imata sedaj 16786 zapisov. Kar pa bo zelo uporabno pri zruževanju podatkov."
   ]
  },
  {
   "cell_type": "code",
   "execution_count": 28,
   "id": "pacific-faith",
   "metadata": {},
   "outputs": [
    {
     "data": {
      "text/plain": [
       "16657"
      ]
     },
     "execution_count": 28,
     "metadata": {},
     "output_type": "execute_result"
    }
   ],
   "source": [
    "vozila[\"sasija\"].nunique()"
   ]
  },
  {
   "cell_type": "code",
   "execution_count": 29,
   "id": "baking-douglas",
   "metadata": {},
   "outputs": [
    {
     "data": {
      "text/plain": [
       "16657"
      ]
     },
     "execution_count": 29,
     "metadata": {},
     "output_type": "execute_result"
    }
   ],
   "source": [
    "vozilaAL[\"sasija\"].nunique()"
   ]
  },
  {
   "cell_type": "code",
   "execution_count": 30,
   "id": "southeast-spokesman",
   "metadata": {},
   "outputs": [],
   "source": [
    "#Združeno skupaj in preverjeno, da se vsi zapisi ujemajo\n",
    "merged = pd.concat([vozila.reset_index(drop=True),vozilaAL.reset_index(drop=True)], axis=1)"
   ]
  },
  {
   "cell_type": "code",
   "execution_count": 31,
   "id": "pediatric-genealogy",
   "metadata": {},
   "outputs": [],
   "source": [
    "#Izbrisan podvojen podatek šasije\n",
    "merged = merged.iloc[:, [j for j, c in enumerate(merged.columns) if j != 6]]"
   ]
  },
  {
   "cell_type": "code",
   "execution_count": 32,
   "id": "quarterly-expansion",
   "metadata": {},
   "outputs": [],
   "source": [
    "#Znebimo se vseh praznih vrednosti\n",
    "merged = merged.fillna(\"BREZ\")"
   ]
  },
  {
   "cell_type": "code",
   "execution_count": 33,
   "id": "inside-citation",
   "metadata": {},
   "outputs": [],
   "source": [
    "#Obstajajo tudi podvojeni zapisi(bodisi večkrat ukradeni, bodisi večkrat prijavljeni)\n",
    "#merged[merged.duplicated(subset=['sasija'])]"
   ]
  },
  {
   "cell_type": "code",
   "execution_count": 34,
   "id": "trained-national",
   "metadata": {},
   "outputs": [],
   "source": [
    "#Podvojeni zapisi\n",
    "del merged[\"Znamka vozila\"]\n",
    "del merged[\"Barva\"]"
   ]
  },
  {
   "cell_type": "markdown",
   "id": "opposite-louis",
   "metadata": {},
   "source": [
    "### Statistika po posameznih mestih"
   ]
  },
  {
   "cell_type": "code",
   "execution_count": 35,
   "id": "large-profit",
   "metadata": {},
   "outputs": [],
   "source": [
    "#Množica vseh veljavnih registerskih tablic\n",
    "mesta = set(kMesta[\"Kratica\"])"
   ]
  },
  {
   "cell_type": "code",
   "execution_count": 36,
   "id": "later-celebration",
   "metadata": {},
   "outputs": [],
   "source": [
    "#Slovar, ki drži število vseh ponovitev posameze oznake registerske\n",
    "poMestih = defaultdict(int)\n",
    "for index, row in merged.iterrows():\n",
    "    mesto = row[2][0:2]\n",
    "    if (mesto[0] == \"P\" and mesto[1].isdigit()):\n",
    "        poMestih[\"P\"] += 1\n",
    "    elif (mesto[0] == \"M\" and mesto[1].isdigit()):\n",
    "        poMestih[\"M\"] += 1\n",
    "    else:\n",
    "        if mesto in mesta:\n",
    "            poMestih[mesto] += 1\n",
    "        else:\n",
    "            poMestih[\"Drugo\"] += 1"
   ]
  },
  {
   "cell_type": "code",
   "execution_count": 37,
   "id": "advance-newport",
   "metadata": {},
   "outputs": [],
   "source": [
    "#Glede na vrednost slovar uredi.\n",
    "poMestihUrejen = {key: value for key, value in sorted(poMestih.items(), key=lambda item: item[1])}"
   ]
  },
  {
   "cell_type": "code",
   "execution_count": 38,
   "id": "rental-mentor",
   "metadata": {},
   "outputs": [],
   "source": [
    "mesta = poMestihUrejen.keys()\n",
    "stKraj = poMestihUrejen.values()\n",
    "\n"
   ]
  },
  {
   "cell_type": "code",
   "execution_count": 39,
   "id": "mature-exception",
   "metadata": {},
   "outputs": [
    {
     "data": {
      "text/plain": [
       "'Celje'"
      ]
     },
     "execution_count": 39,
     "metadata": {},
     "output_type": "execute_result"
    }
   ],
   "source": [
    "kMesta[\"Mesto\"][kMesta[\"Kratica\"] == \"CE\"][0]"
   ]
  },
  {
   "cell_type": "code",
   "execution_count": 40,
   "id": "systematic-calcium",
   "metadata": {},
   "outputs": [
    {
     "data": {
      "image/png": "[encoded data removed]",
      "text/plain": [
       "<Figure size 1800x720 with 1 Axes>"
      ]
     },
     "metadata": {
      "needs_background": "light"
     },
     "output_type": "display_data"
    }
   ],
   "source": [
    "#Izris urejenega grafa.\n",
    "plt.figure(figsize=(25,10))\n",
    "plt.bar(mesta, stKraj)\n",
    "plt.title(\"Kraja vozil po mestih\", fontweight=\"bold\", fontsize=\"large\")\n",
    "plt.xlabel(\"Kratica mesta\", fontweight=\"bold\", fontsize=\"large\")\n",
    "plt.ylabel(\"Število kraj\", fontweight=\"bold\", fontsize=\"large\")\n",
    "for index, value in enumerate(poMestihUrejen.values()):\n",
    "    plt.text(index, value, str(value), color=\"black\", fontweight=\"bold\", fontsize=\"large\", ha=\"center\")\n",
    "x = 0.05\n",
    "y = 0.95\n",
    "for mesto in mesta:\n",
    "    plt.annotate(mesto + \"->\" + KM[mesto], xy=(x, y), xycoords='axes fraction')\n",
    "    y -= 0.05\n",
    "plt.show()\n"
   ]
  },
  {
   "cell_type": "markdown",
   "id": "superb-belief",
   "metadata": {},
   "source": [
    "### Katera znamka je največkrat kradena?"
   ]
  },
  {
   "cell_type": "code",
   "execution_count": 41,
   "id": "imperial-bahamas",
   "metadata": {},
   "outputs": [],
   "source": [
    "poZnamkah = defaultdict(int)\n",
    "for x in merged[\"znamka\"]:\n",
    "    poZnamkah[x] += 1"
   ]
  },
  {
   "cell_type": "code",
   "execution_count": 42,
   "id": "perceived-medication",
   "metadata": {},
   "outputs": [],
   "source": [
    "poZnamkahUrejen = {key: value for key, value in reversed(sorted(poZnamkah.items(), key=lambda item: item[1]))}"
   ]
  },
  {
   "cell_type": "code",
   "execution_count": 43,
   "id": "second-malta",
   "metadata": {},
   "outputs": [],
   "source": [
    "i = 0\n",
    "znamke = []\n",
    "stZnamk = []\n",
    "for key, value in poZnamkahUrejen.items():\n",
    "    if i < 10:\n",
    "        znamke.append(key)\n",
    "        stZnamk.append(value)\n",
    "    else:\n",
    "        break\n",
    "    i+=1"
   ]
  },
  {
   "cell_type": "markdown",
   "id": "corresponding-efficiency",
   "metadata": {},
   "source": [
    "#### 10 največkrat ukradenih znamk"
   ]
  },
  {
   "cell_type": "code",
   "execution_count": 44,
   "id": "dutch-history",
   "metadata": {},
   "outputs": [
    {
     "data": {
      "image/png": "[encoded data removed]",
      "text/plain": [
       "<Figure size 1800x720 with 1 Axes>"
      ]
     },
     "metadata": {
      "needs_background": "light"
     },
     "output_type": "display_data"
    }
   ],
   "source": [
    "plt.figure(figsize=(25,10))\n",
    "plt.bar(znamke, stZnamk)\n",
    "plt.title(\"Kraja vozil po znamkah\", fontweight=\"bold\", fontsize=\"large\")\n",
    "plt.xlabel(\"Znamka\", fontweight=\"bold\", fontsize=\"large\")\n",
    "plt.ylabel(\"Število kraj\", fontweight=\"bold\", fontsize=\"large\")\n",
    "for index, value in enumerate(stZnamk):\n",
    "    plt.text(index, value, str(value), color=\"black\", fontweight=\"bold\", fontsize=\"large\", ha=\"center\")\n",
    "plt.show()"
   ]
  },
  {
   "cell_type": "markdown",
   "id": "spanish-forum",
   "metadata": {},
   "source": [
    "### Kateri tip je največkrat kraden?"
   ]
  },
  {
   "cell_type": "code",
   "execution_count": 45,
   "id": "known-perry",
   "metadata": {
    "scrolled": true
   },
   "outputs": [],
   "source": [
    "poTipih = Counter(merged[\"tip\"])\n",
    "poTipihUrejen = {key: value for key, value in reversed(sorted(poTipih.items(), key=lambda item: item[1]))}\n",
    "#len(poTipihUrejen)\n",
    "\n",
    "#Zbrisano, saj nas zanimajo samo obstajajoči zapisi.\n",
    "del poTipihUrejen[\"BREZ\"] \n",
    "del poTipihUrejen[\"VSI TIPI\"] "
   ]
  },
  {
   "cell_type": "code",
   "execution_count": 46,
   "id": "young-delivery",
   "metadata": {},
   "outputs": [],
   "source": [
    "i = 0\n",
    "tipi = []\n",
    "stTipov = []\n",
    "for key, value in poTipihUrejen.items():\n",
    "    if i < 10:\n",
    "        tipi.append(key)\n",
    "        stTipov.append(value)\n",
    "    else:\n",
    "        break\n",
    "    i+=1"
   ]
  },
  {
   "cell_type": "markdown",
   "id": "prescription-catalyst",
   "metadata": {},
   "source": [
    "#### 10 največkrat ukradenih tipov"
   ]
  },
  {
   "cell_type": "code",
   "execution_count": 47,
   "id": "approved-invitation",
   "metadata": {
    "scrolled": false
   },
   "outputs": [
    {
     "data": {
      "image/png": "[encoded data removed]",
      "text/plain": [
       "<Figure size 1800x720 with 1 Axes>"
      ]
     },
     "metadata": {
      "needs_background": "light"
     },
     "output_type": "display_data"
    }
   ],
   "source": [
    "plt.figure(figsize=(25,10))\n",
    "plt.bar(tipi, stTipov)\n",
    "plt.title(\"Kraja vozil po tipih\", fontweight=\"bold\", fontsize=\"large\")\n",
    "plt.xlabel(\"Tip\", fontweight=\"bold\", fontsize=\"large\")\n",
    "plt.ylabel(\"Število kraj\", fontweight=\"bold\", fontsize=\"large\")\n",
    "for index, value in enumerate(stTipov):\n",
    "    plt.text(index, value, str(value), color=\"black\", fontweight=\"bold\", fontsize=\"large\", ha=\"center\")\n",
    "plt.show()"
   ]
  },
  {
   "cell_type": "markdown",
   "id": "gentle-conservation",
   "metadata": {},
   "source": [
    "### Kraja vozil po letih"
   ]
  },
  {
   "cell_type": "code",
   "execution_count": 55,
   "id": "level-desert",
   "metadata": {},
   "outputs": [],
   "source": [
    "noerror = 0\n",
    "poLetih = defaultdict(int)\n",
    "for x in merged[\"datumodvzema\"]:\n",
    "    try:\n",
    "        l = x.split(\".\")\n",
    "        leto = l[2]\n",
    "        poLetih[leto] += 1\n",
    "    except:\n",
    "        noerror += 1"
   ]
  },
  {
   "cell_type": "code",
   "execution_count": 57,
   "id": "another-burner",
   "metadata": {},
   "outputs": [],
   "source": [
    "poLetihUrejen = {key: value for key, value in reversed(sorted(poLetih.items(), key=lambda item: item[1]))}"
   ]
  },
  {
   "cell_type": "code",
   "execution_count": 91,
   "id": "bigger-heating",
   "metadata": {},
   "outputs": [
    {
     "data": {
      "image/png": "[encoded data removed]",
      "text/plain": [
       "<Figure size 1800x720 with 1 Axes>"
      ]
     },
     "metadata": {
      "needs_background": "light"
     },
     "output_type": "display_data"
    }
   ],
   "source": [
    "plt.figure(figsize=(25,10))\n",
    "\n",
    "plt.bar(*zip(*poLetihUrejen.items()))\n",
    "for index, value in enumerate(poLetihUrejen.values()):\n",
    "    plt.text(index, value, str(value), color=\"black\", fontweight=\"bold\", fontsize=\"large\", ha=\"center\")\n",
    "    \n",
    "plt.title(\"Kraja vozil po letih\", fontweight=\"bold\", fontsize=\"large\")\n",
    "plt.xlabel(\"Leto\", fontweight=\"bold\", fontsize=\"large\")\n",
    "plt.ylabel(\"Število kraj\", fontweight=\"bold\", fontsize=\"large\")\n",
    "\n",
    "plt.show()"
   ]
  },
  {
   "cell_type": "code",
   "execution_count": 98,
   "id": "formed-switch",
   "metadata": {},
   "outputs": [
    {
     "name": "stdout",
     "output_type": "stream",
     "text": [
      "729.83\n"
     ]
    }
   ],
   "source": [
    "print(round(sum(poLetihUrejen.values()) / len(poLetihUrejen),2))"
   ]
  },
  {
   "cell_type": "markdown",
   "id": "accomplished-audience",
   "metadata": {},
   "source": [
    "**Iz gornjega grafa je razvidno, da je bilo največ kraj zabeleženo leta 2017. Najmanj pa leta 1999. Povprečje pa je 730 zabeleženih kraj na leto.**"
   ]
  },
  {
   "cell_type": "code",
   "execution_count": 72,
   "id": "quantitative-farming",
   "metadata": {},
   "outputs": [],
   "source": [
    "#~3000 Zapisov nima podatka o prvi registraciji.\n",
    "poStarostiVozila = defaultdict(int)\n",
    "er = 0\n",
    "for x in merged[\"Prva registracija\"][merged[\"Prva registracija\"] != \"None\"]:\n",
    "    try:\n",
    "        l = x.split(\"-\")\n",
    "        leto = l[0]\n",
    "        poStarostiVozila[leto] += 1\n",
    "    except:\n",
    "        er +=1\n"
   ]
  },
  {
   "cell_type": "code",
   "execution_count": 76,
   "id": "opened-rotation",
   "metadata": {},
   "outputs": [],
   "source": [
    "#Tokrat bo slovar sortiran po letih. Zanima nas ali je več ukradenih vozil novih ali starih.\n",
    "#Pogoj za novo vozilo je, da je mlajše od 4 let\n",
    "poStarostiUrejen = {key: value for key, value in sorted(poStarostiVozila.items(), key=lambda item: item[0])}"
   ]
  },
  {
   "cell_type": "code",
   "execution_count": 79,
   "id": "undefined-angola",
   "metadata": {},
   "outputs": [
    {
     "data": {
      "text/plain": [
       "2021"
      ]
     },
     "execution_count": 79,
     "metadata": {},
     "output_type": "execute_result"
    }
   ],
   "source": [
    "now = datetime.datetime.now()\n",
    "trenutno_leto = now.year\n"
   ]
  },
  {
   "cell_type": "code",
   "execution_count": 82,
   "id": "interior-citation",
   "metadata": {},
   "outputs": [],
   "source": [
    "novaStara = {\"Novo\" : 0, \"Staro\" : 0}"
   ]
  },
  {
   "cell_type": "code",
   "execution_count": 85,
   "id": "corresponding-barbados",
   "metadata": {},
   "outputs": [],
   "source": [
    "for key, value in poStarostiUrejen.items():\n",
    "    if trenutno_leto - int(key) <= 4:\n",
    "        novaStara[\"Novo\"] += poStarostiUrejen[key]\n",
    "    else:\n",
    "        novaStara[\"Staro\"] += poStarostiUrejen[key]"
   ]
  },
  {
   "cell_type": "code",
   "execution_count": 89,
   "id": "speaking-boulder",
   "metadata": {},
   "outputs": [],
   "source": [
    "starost = [novaStara[\"Novo\"], novaStara[\"Staro\"]]\n",
    "n = '#6404CB'\n",
    "s = '#04B6CB'\n",
    "\n"
   ]
  },
  {
   "cell_type": "code",
   "execution_count": 92,
   "id": "guided-article",
   "metadata": {
    "scrolled": false
   },
   "outputs": [
    {
     "data": {
      "image/png": "[encoded data removed]",
      "text/plain": [
       "<Figure size 1800x720 with 1 Axes>"
      ]
     },
     "metadata": {
      "needs_background": "light"
     },
     "output_type": "display_data"
    }
   ],
   "source": [
    "plt.figure(figsize=(25,10))\n",
    "\n",
    "plt.bar(range(2), height=(starost), tick_label=(\"Novo\", \"Staro\"), color=(n,s))\n",
    "for index, value in enumerate(starost):\n",
    "    plt.text(index, value, str(value), color=\"black\", fontweight=\"bold\", fontsize=\"large\", ha=\"center\")\n",
    "    \n",
    "plt.title(\"Kraja vozil po starosti\", fontweight=\"bold\", fontsize=\"large\")\n",
    "plt.xlabel(\"Starost\", fontweight=\"bold\", fontsize=\"large\")\n",
    "plt.ylabel(\"Število kraj\", fontweight=\"bold\", fontsize=\"large\")\n",
    "    \n",
    "plt.show()"
   ]
  },
  {
   "cell_type": "code",
   "execution_count": 96,
   "id": "adaptive-sailing",
   "metadata": {},
   "outputs": [
    {
     "name": "stdout",
     "output_type": "stream",
     "text": [
      "96.65\n",
      "3.35\n"
     ]
    }
   ],
   "source": [
    "print(round(13184 / (13184 + 457) * 100,2))\n",
    "print(round(457 / (13184 + 457) * 100,2))"
   ]
  },
  {
   "cell_type": "markdown",
   "id": "instant-behavior",
   "metadata": {},
   "source": [
    "**Iz zgornjega grafa je razvidno, da je bilo veliko več kraj starejših kot pa novejših vozil in sicer 13184:457. Okoli 97% vozil je bilo starejših od 4 let. 3% pa so novejši avtomobili, kar pomeni da so stari <= 4 leta.**"
   ]
  },
  {
   "cell_type": "code",
   "execution_count": null,
   "id": "subtle-circus",
   "metadata": {},
   "outputs": [],
   "source": []
  }
 ],
 "metadata": {
  "kernelspec": {
   "display_name": "Python 3",
   "language": "python",
   "name": "python3"
  },
  "language_info": {
   "codemirror_mode": {
    "name": "ipython",
    "version": 3
   },
   "file_extension": ".py",
   "mimetype": "text/x-python",
   "name": "python",
   "nbconvert_exporter": "python",
   "pygments_lexer": "ipython3",
   "version": "3.7.4"
  }
 },
 "nbformat": 4,
 "nbformat_minor": 5
}
